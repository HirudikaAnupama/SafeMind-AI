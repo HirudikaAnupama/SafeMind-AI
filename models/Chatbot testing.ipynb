{
 "cells": [
  {
   "metadata": {
    "ExecuteTime": {
     "end_time": "2025-02-08T20:47:44.559691Z",
     "start_time": "2025-02-08T20:47:44.553895Z"
    }
   },
   "cell_type": "code",
   "source": [
    "from transformers import BertTokenizer, BertForSequenceClassification\n",
    "import joblib\n",
    "import torch"
   ],
   "id": "db03691a1dc3c931",
   "outputs": [],
   "execution_count": 9
  },
  {
   "cell_type": "code",
   "id": "initial_id",
   "metadata": {
    "collapsed": true,
    "ExecuteTime": {
     "end_time": "2025-02-08T20:47:45.209753Z",
     "start_time": "2025-02-08T20:47:44.743839Z"
    }
   },
   "source": [
    "tokenizer = BertTokenizer.from_pretrained(\"bert_chatbot\")\n",
    "model = BertForSequenceClassification.from_pretrained(\"bert_chatbot\")\n",
    "label_encoder = joblib.load(\"label_encode.pkl\")"
   ],
   "outputs": [],
   "execution_count": 10
  },
  {
   "metadata": {
    "ExecuteTime": {
     "end_time": "2025-02-08T20:47:45.218662Z",
     "start_time": "2025-02-08T20:47:45.211882Z"
    }
   },
   "cell_type": "code",
   "source": [
    "# Intent prediction function with optimizations\n",
    "def predict_intent(text):\n",
    "    inputs = tokenizer(text, return_tensors=\"pt\", truncation=True, padding=\"max_length\", max_length=128)\n",
    "    inputs = {k: v.to(model.device) for k, v in inputs.items()}  # Ensure same device\n",
    "    \n",
    "    with torch.no_grad():  # Disable gradient calculation for efficiency\n",
    "        outputs = model(**inputs)\n",
    "    \n",
    "    probs = torch.nn.functional.softmax(outputs.logits, dim=-1)\n",
    "    pred_label = torch.argmax(probs, dim=1).item()\n",
    "    intent = label_encoder.inverse_transform([pred_label])[0]\n",
    "    return intent"
   ],
   "id": "d16a531c73223eec",
   "outputs": [],
   "execution_count": 11
  },
  {
   "metadata": {
    "ExecuteTime": {
     "end_time": "2025-02-08T20:47:45.987929Z",
     "start_time": "2025-02-08T20:47:45.745780Z"
    }
   },
   "cell_type": "code",
   "source": "predict_intent(\"Hello\")",
   "id": "75964496c67331c0",
   "outputs": [
    {
     "data": {
      "text/plain": [
       "'hello there tell me how are you feeling today'"
      ]
     },
     "execution_count": 12,
     "metadata": {},
     "output_type": "execute_result"
    }
   ],
   "execution_count": 12
  },
  {
   "metadata": {
    "ExecuteTime": {
     "end_time": "2025-02-08T20:48:01.267841Z",
     "start_time": "2025-02-08T20:48:01.066173Z"
    }
   },
   "cell_type": "code",
   "source": "predict_intent(\"I am feeling bad\")",
   "id": "a7c71721476cfbb6",
   "outputs": [
    {
     "data": {
      "text/plain": [
       "'why do you think you feel this way'"
      ]
     },
     "execution_count": 13,
     "metadata": {},
     "output_type": "execute_result"
    }
   ],
   "execution_count": 13
  },
  {
   "metadata": {
    "ExecuteTime": {
     "end_time": "2025-02-08T20:48:40.910380Z",
     "start_time": "2025-02-08T20:48:40.764763Z"
    }
   },
   "cell_type": "code",
   "source": "predict_intent(\"give some advices, i am feeling not well\")",
   "id": "176faa47a2ed4cda",
   "outputs": [
    {
     "data": {
      "text/plain": [
       "'as exasperated as you feel and as obvious it is to you that your husband cares more about drinking than being honest with you changing this is up to him does he care that you re upset with him for drinking more than he can handle does he care about you more than drinking living with an alcoholic which is how his behavior sounds is lonely and frustrating concentrate on what you like about him as he is now with his drinking your happiness matters his ignoring of what you re talking about doesn t mean your requests are unreasonable be prepared to learn to live with and accept how he behaves or not avoid the expectation that you can convince him to change people change only when they realize their life can improve by changing he doesn t sound like this at least now'"
      ]
     },
     "execution_count": 16,
     "metadata": {},
     "output_type": "execute_result"
    }
   ],
   "execution_count": 16
  },
  {
   "metadata": {},
   "cell_type": "code",
   "outputs": [],
   "execution_count": null,
   "source": "",
   "id": "e7b71feaf796ac6d"
  }
 ],
 "metadata": {
  "kernelspec": {
   "display_name": "Python 3",
   "language": "python",
   "name": "python3"
  },
  "language_info": {
   "codemirror_mode": {
    "name": "ipython",
    "version": 2
   },
   "file_extension": ".py",
   "mimetype": "text/x-python",
   "name": "python",
   "nbconvert_exporter": "python",
   "pygments_lexer": "ipython2",
   "version": "2.7.6"
  }
 },
 "nbformat": 4,
 "nbformat_minor": 5
}
