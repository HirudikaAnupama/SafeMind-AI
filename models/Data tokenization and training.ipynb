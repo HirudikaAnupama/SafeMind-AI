{
 "cells": [
  {
   "cell_type": "code",
   "id": "initial_id",
   "metadata": {
    "collapsed": true,
    "ExecuteTime": {
     "end_time": "2025-02-08T20:26:20.735795Z",
     "start_time": "2025-02-08T20:26:20.722685Z"
    }
   },
   "source": [
    "import torch\n",
    "import pandas as pd\n",
    "import joblib\n",
    "from transformers import BertTokenizer, BertForSequenceClassification, Trainer, TrainingArguments\n",
    "from sklearn.model_selection import train_test_split\n",
    "from sklearn.preprocessing import LabelEncoder"
   ],
   "outputs": [],
   "execution_count": 55
  },
  {
   "metadata": {
    "ExecuteTime": {
     "end_time": "2025-02-08T20:26:21.626363Z",
     "start_time": "2025-02-08T20:26:21.542791Z"
    }
   },
   "cell_type": "code",
   "source": "merged_df = pd.read_csv(r\"data/merged_dataset.csv\")",
   "id": "c48e99f669ca4fb",
   "outputs": [],
   "execution_count": 56
  },
  {
   "metadata": {
    "ExecuteTime": {
     "end_time": "2025-02-08T20:26:22.588210Z",
     "start_time": "2025-02-08T20:26:21.783310Z"
    }
   },
   "cell_type": "code",
   "source": [
    "# Step 2: Tokenization\n",
    "print(\"Initializing tokenizer...\")\n",
    "tokenizer = BertTokenizer.from_pretrained(\"bert-base-uncased\")\n",
    "tokenizer.save_pretrained(\"bert_chatbot_tokenization\")  # Save tokenizer for reuse"
   ],
   "id": "4ba9fb570c8453aa",
   "outputs": [
    {
     "name": "stdout",
     "output_type": "stream",
     "text": [
      "Initializing tokenizer...\n"
     ]
    },
    {
     "data": {
      "text/plain": [
       "('bert_chatbot_tokenization\\\\tokenizer_config.json',\n",
       " 'bert_chatbot_tokenization\\\\special_tokens_map.json',\n",
       " 'bert_chatbot_tokenization\\\\vocab.txt',\n",
       " 'bert_chatbot_tokenization\\\\added_tokens.json')"
      ]
     },
     "execution_count": 57,
     "metadata": {},
     "output_type": "execute_result"
    }
   ],
   "execution_count": 57
  },
  {
   "metadata": {
    "ExecuteTime": {
     "end_time": "2025-02-08T20:26:23.411581Z",
     "start_time": "2025-02-08T20:26:22.588210Z"
    }
   },
   "cell_type": "code",
   "source": [
    "# Step 3: Encode text and labels\n",
    "# Ensure all values in X are strings and handle missing values\n",
    "X = merged_df['Pattern'].astype(str).fillna(\"\").tolist()\n",
    "\n",
    "y = merged_df['Response'].tolist()\n",
    "\n",
    "label_encoder = LabelEncoder()\n",
    "y_encoded = label_encoder.fit_transform(y)\n",
    "joblib.dump(label_encoder, \"label_encode.pkl\")"
   ],
   "id": "9420c233fc66b646",
   "outputs": [
    {
     "data": {
      "text/plain": [
       "['label_encode.pkl']"
      ]
     },
     "execution_count": 58,
     "metadata": {},
     "output_type": "execute_result"
    }
   ],
   "execution_count": 58
  },
  {
   "metadata": {
    "ExecuteTime": {
     "end_time": "2025-02-08T20:06:27.796214Z",
     "start_time": "2025-02-08T20:06:23.829304Z"
    }
   },
   "cell_type": "code",
   "source": "X_encoded = tokenizer(X, truncation=True, padding='max_length', max_length=128, return_tensors=\"pt\")\n",
   "id": "993dfdd06e0d6777",
   "outputs": [],
   "execution_count": 18
  },
  {
   "metadata": {
    "ExecuteTime": {
     "end_time": "2025-02-08T20:06:27.813753Z",
     "start_time": "2025-02-08T20:06:27.796214Z"
    }
   },
   "cell_type": "code",
   "source": [
    "test_size = 0.2\n",
    "\n",
    "X_train, X_test, y_train, y_test = train_test_split(\n",
    "    X_encoded[\"input_ids\"], y_encoded, test_size=test_size, random_state=42, shuffle=True\n",
    ")\n"
   ],
   "id": "50cbad530baaa3f8",
   "outputs": [],
   "execution_count": 19
  },
  {
   "metadata": {
    "ExecuteTime": {
     "end_time": "2025-02-08T20:06:27.820363Z",
     "start_time": "2025-02-08T20:06:27.813753Z"
    }
   },
   "cell_type": "code",
   "source": [
    "# Convert to PyTorch tensors\n",
    "train_encodings = {\"input_ids\": X_train}\n",
    "test_encodings = {\"input_ids\": X_test}\n",
    "y_train_tensor = torch.tensor(y_train)\n",
    "y_test_tensor = torch.tensor(y_test)"
   ],
   "id": "38b180a759c3fb82",
   "outputs": [],
   "execution_count": 20
  },
  {
   "metadata": {
    "ExecuteTime": {
     "end_time": "2025-02-08T20:06:28.361584Z",
     "start_time": "2025-02-08T20:06:28.353010Z"
    }
   },
   "cell_type": "code",
   "source": [
    "# Custom dataset class\n",
    "class ChatDataset(torch.utils.data.Dataset):\n",
    "    def __init__(self, encodings, labels):\n",
    "        self.encodings = encodings\n",
    "        self.labels = labels\n",
    "\n",
    "    def __len__(self):\n",
    "        return len(self.labels)\n",
    "\n",
    "    def __getitem__(self, idx):\n",
    "        item = {key: torch.tensor(val[idx]) for key, val in self.encodings.items()}\n",
    "        item['labels'] = torch.tensor(self.labels[idx])\n",
    "        return item\n",
    "\n",
    "train_dataset = ChatDataset(train_encodings, y_train_tensor)\n",
    "test_dataset = ChatDataset(test_encodings, y_test_tensor)"
   ],
   "id": "afe70cf366a1bd15",
   "outputs": [],
   "execution_count": 21
  },
  {
   "metadata": {
    "ExecuteTime": {
     "end_time": "2025-02-07T22:07:07.301149Z",
     "start_time": "2025-02-07T20:48:21.689037Z"
    }
   },
   "cell_type": "code",
   "source": [
    "# Load pre-trained BERT model for classification\n",
    "model = BertForSequenceClassification.from_pretrained(\"bert-base-uncased\", num_labels=len(set(y_encoded)))\n",
    "\n",
    "# Training arguments with optimizations\n",
    "training_args = TrainingArguments(\n",
    "    output_dir=\"./results\",\n",
    "    evaluation_strategy=\"epoch\",\n",
    "    save_strategy=\"epoch\",\n",
    "    per_device_train_batch_size=16,  # Increased batch size for efficiency\n",
    "    per_device_eval_batch_size=16,\n",
    "    num_train_epochs=5,  # More epochs for better training\n",
    "    logging_dir=\"./logs\",\n",
    "    learning_rate=3e-5,  # Fine-tuned learning rate\n",
    "    weight_decay=0.01,\n",
    "    load_best_model_at_end=True,  # Load best model for better performance\n",
    ")\n",
    "\n",
    "# Trainer instance\n",
    "trainer = Trainer(\n",
    "    model=model,\n",
    "    args=training_args,\n",
    "    train_dataset=train_dataset,\n",
    "    eval_dataset=test_dataset,\n",
    ")\n",
    "\n",
    "# Train model\n",
    "trainer.train()"
   ],
   "id": "f55f22e39efa3c91",
   "outputs": [
    {
     "name": "stderr",
     "output_type": "stream",
     "text": [
      "Some weights of BertForSequenceClassification were not initialized from the model checkpoint at bert-base-uncased and are newly initialized: ['classifier.bias', 'classifier.weight']\n",
      "You should probably TRAIN this model on a down-stream task to be able to use it for predictions and inference.\n",
      "C:\\Users\\LENOVO\\miniconda3\\Lib\\site-packages\\transformers\\training_args.py:1575: FutureWarning: `evaluation_strategy` is deprecated and will be removed in version 4.46 of 🤗 Transformers. Use `eval_strategy` instead\n",
      "  warnings.warn(\n",
      "C:\\Users\\LENOVO\\AppData\\Local\\Temp\\ipykernel_9192\\563456640.py:11: UserWarning: To copy construct from a tensor, it is recommended to use sourceTensor.clone().detach() or sourceTensor.clone().detach().requires_grad_(True), rather than torch.tensor(sourceTensor).\n",
      "  item = {key: torch.tensor(val[idx]) for key, val in self.encodings.items()}\n",
      "C:\\Users\\LENOVO\\AppData\\Local\\Temp\\ipykernel_9192\\563456640.py:12: UserWarning: To copy construct from a tensor, it is recommended to use sourceTensor.clone().detach() or sourceTensor.clone().detach().requires_grad_(True), rather than torch.tensor(sourceTensor).\n",
      "  item['labels'] = torch.tensor(self.labels[idx])\n"
     ]
    },
    {
     "data": {
      "text/plain": [
       "<IPython.core.display.HTML object>"
      ],
      "text/html": [
       "\n",
       "    <div>\n",
       "      \n",
       "      <progress value='855' max='855' style='width:300px; height:20px; vertical-align: middle;'></progress>\n",
       "      [855/855 1:18:36, Epoch 5/5]\n",
       "    </div>\n",
       "    <table border=\"1\" class=\"dataframe\">\n",
       "  <thead>\n",
       " <tr style=\"text-align: left;\">\n",
       "      <th>Epoch</th>\n",
       "      <th>Training Loss</th>\n",
       "      <th>Validation Loss</th>\n",
       "    </tr>\n",
       "  </thead>\n",
       "  <tbody>\n",
       "    <tr>\n",
       "      <td>1</td>\n",
       "      <td>No log</td>\n",
       "      <td>7.664407</td>\n",
       "    </tr>\n",
       "    <tr>\n",
       "      <td>2</td>\n",
       "      <td>No log</td>\n",
       "      <td>7.548858</td>\n",
       "    </tr>\n",
       "    <tr>\n",
       "      <td>3</td>\n",
       "      <td>7.557700</td>\n",
       "      <td>7.643505</td>\n",
       "    </tr>\n",
       "    <tr>\n",
       "      <td>4</td>\n",
       "      <td>7.557700</td>\n",
       "      <td>7.668167</td>\n",
       "    </tr>\n",
       "    <tr>\n",
       "      <td>5</td>\n",
       "      <td>7.557700</td>\n",
       "      <td>7.664006</td>\n",
       "    </tr>\n",
       "  </tbody>\n",
       "</table><p>"
      ]
     },
     "metadata": {},
     "output_type": "display_data"
    },
    {
     "name": "stderr",
     "output_type": "stream",
     "text": [
      "C:\\Users\\LENOVO\\AppData\\Local\\Temp\\ipykernel_9192\\563456640.py:11: UserWarning: To copy construct from a tensor, it is recommended to use sourceTensor.clone().detach() or sourceTensor.clone().detach().requires_grad_(True), rather than torch.tensor(sourceTensor).\n",
      "  item = {key: torch.tensor(val[idx]) for key, val in self.encodings.items()}\n",
      "C:\\Users\\LENOVO\\AppData\\Local\\Temp\\ipykernel_9192\\563456640.py:12: UserWarning: To copy construct from a tensor, it is recommended to use sourceTensor.clone().detach() or sourceTensor.clone().detach().requires_grad_(True), rather than torch.tensor(sourceTensor).\n",
      "  item['labels'] = torch.tensor(self.labels[idx])\n",
      "C:\\Users\\LENOVO\\AppData\\Local\\Temp\\ipykernel_9192\\563456640.py:11: UserWarning: To copy construct from a tensor, it is recommended to use sourceTensor.clone().detach() or sourceTensor.clone().detach().requires_grad_(True), rather than torch.tensor(sourceTensor).\n",
      "  item = {key: torch.tensor(val[idx]) for key, val in self.encodings.items()}\n",
      "C:\\Users\\LENOVO\\AppData\\Local\\Temp\\ipykernel_9192\\563456640.py:12: UserWarning: To copy construct from a tensor, it is recommended to use sourceTensor.clone().detach() or sourceTensor.clone().detach().requires_grad_(True), rather than torch.tensor(sourceTensor).\n",
      "  item['labels'] = torch.tensor(self.labels[idx])\n",
      "C:\\Users\\LENOVO\\AppData\\Local\\Temp\\ipykernel_9192\\563456640.py:11: UserWarning: To copy construct from a tensor, it is recommended to use sourceTensor.clone().detach() or sourceTensor.clone().detach().requires_grad_(True), rather than torch.tensor(sourceTensor).\n",
      "  item = {key: torch.tensor(val[idx]) for key, val in self.encodings.items()}\n",
      "C:\\Users\\LENOVO\\AppData\\Local\\Temp\\ipykernel_9192\\563456640.py:12: UserWarning: To copy construct from a tensor, it is recommended to use sourceTensor.clone().detach() or sourceTensor.clone().detach().requires_grad_(True), rather than torch.tensor(sourceTensor).\n",
      "  item['labels'] = torch.tensor(self.labels[idx])\n",
      "C:\\Users\\LENOVO\\AppData\\Local\\Temp\\ipykernel_9192\\563456640.py:11: UserWarning: To copy construct from a tensor, it is recommended to use sourceTensor.clone().detach() or sourceTensor.clone().detach().requires_grad_(True), rather than torch.tensor(sourceTensor).\n",
      "  item = {key: torch.tensor(val[idx]) for key, val in self.encodings.items()}\n",
      "C:\\Users\\LENOVO\\AppData\\Local\\Temp\\ipykernel_9192\\563456640.py:12: UserWarning: To copy construct from a tensor, it is recommended to use sourceTensor.clone().detach() or sourceTensor.clone().detach().requires_grad_(True), rather than torch.tensor(sourceTensor).\n",
      "  item['labels'] = torch.tensor(self.labels[idx])\n",
      "C:\\Users\\LENOVO\\AppData\\Local\\Temp\\ipykernel_9192\\563456640.py:11: UserWarning: To copy construct from a tensor, it is recommended to use sourceTensor.clone().detach() or sourceTensor.clone().detach().requires_grad_(True), rather than torch.tensor(sourceTensor).\n",
      "  item = {key: torch.tensor(val[idx]) for key, val in self.encodings.items()}\n",
      "C:\\Users\\LENOVO\\AppData\\Local\\Temp\\ipykernel_9192\\563456640.py:12: UserWarning: To copy construct from a tensor, it is recommended to use sourceTensor.clone().detach() or sourceTensor.clone().detach().requires_grad_(True), rather than torch.tensor(sourceTensor).\n",
      "  item['labels'] = torch.tensor(self.labels[idx])\n"
     ]
    },
    {
     "data": {
      "text/plain": [
       "TrainOutput(global_step=855, training_loss=7.42657592059576, metrics={'train_runtime': 4723.8465, 'train_samples_per_second': 2.89, 'train_steps_per_second': 0.181, 'total_flos': 915416537817600.0, 'train_loss': 7.42657592059576, 'epoch': 5.0})"
      ]
     },
     "execution_count": 37,
     "metadata": {},
     "output_type": "execute_result"
    }
   ],
   "execution_count": 37
  },
  {
   "metadata": {
    "ExecuteTime": {
     "end_time": "2025-02-07T22:07:57.597008Z",
     "start_time": "2025-02-07T22:07:07.312306Z"
    }
   },
   "cell_type": "code",
   "source": [
    "# Save model and tokenizer\n",
    "model.save_pretrained(\"bert_chatbot\")\n",
    "tokenizer.save_pretrained(\"bert_chatbot\")\n",
    "\n",
    "# Evaluate model\n",
    "trainer.evaluate()"
   ],
   "id": "df88a741bc37c493",
   "outputs": [
    {
     "name": "stderr",
     "output_type": "stream",
     "text": [
      "C:\\Users\\LENOVO\\AppData\\Local\\Temp\\ipykernel_9192\\563456640.py:11: UserWarning: To copy construct from a tensor, it is recommended to use sourceTensor.clone().detach() or sourceTensor.clone().detach().requires_grad_(True), rather than torch.tensor(sourceTensor).\n",
      "  item = {key: torch.tensor(val[idx]) for key, val in self.encodings.items()}\n",
      "C:\\Users\\LENOVO\\AppData\\Local\\Temp\\ipykernel_9192\\563456640.py:12: UserWarning: To copy construct from a tensor, it is recommended to use sourceTensor.clone().detach() or sourceTensor.clone().detach().requires_grad_(True), rather than torch.tensor(sourceTensor).\n",
      "  item['labels'] = torch.tensor(self.labels[idx])\n"
     ]
    },
    {
     "data": {
      "text/plain": [
       "<IPython.core.display.HTML object>"
      ],
      "text/html": [
       "\n",
       "    <div>\n",
       "      \n",
       "      <progress value='43' max='43' style='width:300px; height:20px; vertical-align: middle;'></progress>\n",
       "      [43/43 00:48]\n",
       "    </div>\n",
       "    "
      ]
     },
     "metadata": {},
     "output_type": "display_data"
    },
    {
     "data": {
      "text/plain": [
       "{'eval_loss': 7.548858165740967,\n",
       " 'eval_runtime': 49.7609,\n",
       " 'eval_samples_per_second': 13.726,\n",
       " 'eval_steps_per_second': 0.864,\n",
       " 'epoch': 5.0}"
      ]
     },
     "execution_count": 38,
     "metadata": {},
     "output_type": "execute_result"
    }
   ],
   "execution_count": 38
  },
  {
   "metadata": {},
   "cell_type": "code",
   "outputs": [],
   "execution_count": null,
   "source": "",
   "id": "6bcab72f3850806"
  }
 ],
 "metadata": {
  "kernelspec": {
   "display_name": "Python 3",
   "language": "python",
   "name": "python3"
  },
  "language_info": {
   "codemirror_mode": {
    "name": "ipython",
    "version": 2
   },
   "file_extension": ".py",
   "mimetype": "text/x-python",
   "name": "python",
   "nbconvert_exporter": "python",
   "pygments_lexer": "ipython2",
   "version": "2.7.6"
  }
 },
 "nbformat": 4,
 "nbformat_minor": 5
}
