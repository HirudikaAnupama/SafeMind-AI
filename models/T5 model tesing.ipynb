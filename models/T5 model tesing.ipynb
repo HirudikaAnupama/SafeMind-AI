{
 "cells": [
  {
   "metadata": {
    "ExecuteTime": {
     "end_time": "2025-03-01T16:26:55.973886Z",
     "start_time": "2025-03-01T16:26:54.670855Z"
    }
   },
   "cell_type": "code",
   "source": [
    "import torch\n",
    "import os\n",
    "from transformers import T5Tokenizer, T5ForConditionalGeneration, AutoConfig\n",
    "from collections import Counter\n",
    "import numpy as np\n",
    "import bert_score\n",
    "\n",
    "# 🔹 Set Model Directory\n",
    "MODEL_DIR = r\"C:\\Users\\LENOVO\\Desktop\\Projects\\SafeMind AI\\t5_finetuned_model\"\n",
    "device = \"cuda\" if torch.cuda.is_available() else \"cpu\"\n",
    "\n",
    "# 🔹 Get Checkpoints\n",
    "CHECKPOINT_PATHS = [os.path.join(MODEL_DIR, f\"checkpoint-{i}\") for i in range(1, 4)]\n",
    "print(f\"🔹 Found Checkpoints: {CHECKPOINT_PATHS}\")\n",
    "\n",
    "# 🔹 Load Tokenizer\n",
    "tokenizer = T5Tokenizer.from_pretrained(CHECKPOINT_PATHS[-1])\n",
    "\n",
    "# 🔹 Load Models\n",
    "models = []\n",
    "for i, path in enumerate(CHECKPOINT_PATHS):\n",
    "    config = AutoConfig.from_pretrained(path)\n",
    "    model = T5ForConditionalGeneration.from_pretrained(\n",
    "        path, config=config, torch_dtype=torch.float16 if torch.cuda.is_available() else torch.float32\n",
    "    ).to(device).eval()\n",
    "    models.append(model)\n",
    "\n",
    "print(f\"✅ Loaded {len(models)} models for ensembling.\")\n",
    "\n",
    "# 🔹 Define Mental Health Keywords for Reinforcement\n",
    "MENTAL_HEALTH_KEYWORDS = {\n",
    "    \"self-care\", \"therapy\", \"support\", \"healing\", \"emotions\", \n",
    "    \"mindfulness\", \"relaxation\", \"breathing\", \"coping\", \"balance\"\n",
    "}\n",
    "\n",
    "# 🔹 Function for Enhanced Ensemble Prediction with Keyword Reinforcement\n",
    "def ensemble_generate(prompt, num_return_sequences=3):\n",
    "    input_ids = tokenizer(prompt, return_tensors=\"pt\").input_ids.to(device)\n",
    "\n",
    "    responses_with_scores = []\n",
    "    \n",
    "    for i, model in enumerate(models):\n",
    "        temperature = max(0.3, 1 - (0.1 * len(models)))  # Adaptive temperature\n",
    "        outputs = model.generate(\n",
    "            input_ids,\n",
    "            return_dict_in_generate=True,\n",
    "            output_scores=True,\n",
    "            max_length=300,\n",
    "            num_beams=8,\n",
    "            early_stopping=True,\n",
    "            repetition_penalty=3.0,\n",
    "            length_penalty=2.0,\n",
    "            temperature=temperature,\n",
    "            top_k=50,\n",
    "            top_p=0.95,\n",
    "            do_sample=True,\n",
    "            num_return_sequences=num_return_sequences\n",
    "        )\n",
    "\n",
    "        # Assign confidence scores using logits if available\n",
    "        if outputs.scores:\n",
    "            logits = torch.stack(outputs.scores).mean().item()\n",
    "        else:\n",
    "            logits = 0  # Default if no score is provided\n",
    "\n",
    "        model_weight = (i + 1) * 1.5\n",
    "\n",
    "        for output in outputs.sequences:\n",
    "            response = tokenizer.decode(output, skip_special_tokens=True).strip()\n",
    "            confidence_score = logits * model_weight\n",
    "            \n",
    "            # 🔹 Apply Keyword Boosting\n",
    "            keyword_count = sum(1 for word in MENTAL_HEALTH_KEYWORDS if word in response.lower())\n",
    "            confidence_score += keyword_count * 2  # Boost responses with relevant keywords\n",
    "            \n",
    "            responses_with_scores.append((response, confidence_score))\n",
    "\n",
    "    # 🔹 Weighted Voting for Best Response\n",
    "    response_scores = Counter()\n",
    "    for response, score in responses_with_scores:\n",
    "        response_scores[response] += score\n",
    "\n",
    "    # 🔹 Get Top Responses\n",
    "    top_responses = [resp for resp, _ in response_scores.most_common(5)]\n",
    "\n",
    "    if not top_responses:\n",
    "        return \"I'm sorry, but I couldn't generate a response.\"\n",
    "\n",
    "    # 🔹 Apply BERTScore for Similarity Filtering\n",
    "    P, R, F1 = bert_score.score(\n",
    "        top_responses, [prompt] * len(top_responses), lang=\"en\", model_type=\"bert-base-uncased\"\n",
    "    )\n",
    "\n",
    "    best_response = top_responses[np.argmax(F1.cpu().numpy())]\n",
    "\n",
    "    return best_response  # ✅ Correctly indented return statement\n"
   ],
   "id": "3511ef5eee2350d5",
   "outputs": [
    {
     "name": "stdout",
     "output_type": "stream",
     "text": [
      "🔹 Found Checkpoints: ['C:\\\\Users\\\\LENOVO\\\\Desktop\\\\Projects\\\\SafeMind AI\\\\t5_finetuned_model\\\\checkpoint-1', 'C:\\\\Users\\\\LENOVO\\\\Desktop\\\\Projects\\\\SafeMind AI\\\\t5_finetuned_model\\\\checkpoint-2', 'C:\\\\Users\\\\LENOVO\\\\Desktop\\\\Projects\\\\SafeMind AI\\\\t5_finetuned_model\\\\checkpoint-3']\n",
      "✅ Loaded 3 models for ensembling.\n"
     ]
    }
   ],
   "execution_count": 79
  },
  {
   "metadata": {
    "ExecuteTime": {
     "end_time": "2025-03-01T16:27:06.031111Z",
     "start_time": "2025-03-01T16:26:56.696562Z"
    }
   },
   "cell_type": "code",
   "source": [
    "# 🔹 Example Usage\n",
    "example_input = \"Why do I feel so anxious all the time?\"\n",
    "print(\"🔹 AI Response:\", ensemble_generate(example_input))\n"
   ],
   "id": "8defb56f9c44077d",
   "outputs": [
    {
     "name": "stdout",
     "output_type": "stream",
     "text": [
      "🔹 AI Response: why do you feel anxious all the time? i'm so sorry to hear that. i am not sure what is going on in your life.\n"
     ]
    }
   ],
   "execution_count": 80
  },
  {
   "metadata": {
    "ExecuteTime": {
     "end_time": "2025-03-01T16:27:25.637242Z",
     "start_time": "2025-03-01T16:27:15.592236Z"
    }
   },
   "cell_type": "code",
   "source": [
    "# 🔹 Example Usage\n",
    "example_input = \"How can I calm myself down during a panic attack?\"\n",
    "print(\"🔹 AI Response:\", ensemble_generate(example_input))\n"
   ],
   "id": "289621c2c11cf75",
   "outputs": [
    {
     "name": "stdout",
     "output_type": "stream",
     "text": [
      "🔹 AI Response: panic attacks can be a great way to calm yourself down. the best way to calm yourself is to focus on what you are feeling and how you feel when you have panic attacks.\n"
     ]
    }
   ],
   "execution_count": 81
  },
  {
   "metadata": {
    "ExecuteTime": {
     "end_time": "2025-03-01T16:28:01.258581Z",
     "start_time": "2025-03-01T16:27:50.630706Z"
    }
   },
   "cell_type": "code",
   "source": [
    "# 🔹 Example Usage\n",
    "example_input = \"What are some quick ways to reduce stress?\"\n",
    "print(\"🔹 AI Response:\", ensemble_generate(example_input))\n"
   ],
   "id": "3b67fb4be20a4bc0",
   "outputs": [
    {
     "name": "stdout",
     "output_type": "stream",
     "text": [
      "🔹 AI Response: there are some quick ways to reduce stress. the best way to reduce stress is to focus on focusing on what you're looking for in order to improve your mood and feel better.\n"
     ]
    }
   ],
   "execution_count": 82
  },
  {
   "metadata": {
    "ExecuteTime": {
     "end_time": "2025-03-01T16:28:31.429099Z",
     "start_time": "2025-03-01T16:28:19.226251Z"
    }
   },
   "cell_type": "code",
   "source": [
    "# 🔹 Example Usage\n",
    "example_input = \"Why do I get nervous in social situations?\"\n",
    "print(\"🔹 AI Response:\", ensemble_generate(example_input))\n"
   ],
   "id": "9246d960fdedb669",
   "outputs": [
    {
     "name": "stdout",
     "output_type": "stream",
     "text": [
      "🔹 AI Response: i don't know why you feel nervous in social situations. i am not sure what to do, but i haven't heard of it before. i can't believe that there is something wrong with the situation.\n"
     ]
    }
   ],
   "execution_count": 83
  },
  {
   "metadata": {
    "ExecuteTime": {
     "end_time": "2025-03-01T16:28:59.510928Z",
     "start_time": "2025-03-01T16:28:43.011847Z"
    }
   },
   "cell_type": "code",
   "source": [
    "# 🔹 Example Usage\n",
    "example_input = \"How do I deal with workplace stress?\"\n",
    "print(\"🔹 AI Response:\", ensemble_generate(example_input))\n"
   ],
   "id": "93eca7b75f0134c3",
   "outputs": [
    {
     "name": "stdout",
     "output_type": "stream",
     "text": [
      "🔹 AI Response: i'm not sure how to deal with stress in the workplace. there are many different types of things that you can do to address your stress. it is important to have a clear understanding of what is going on in your workplace and what is going on in your life. this will help you cope with some of the most stressful aspects of your workdays.\n"
     ]
    }
   ],
   "execution_count": 84
  },
  {
   "metadata": {
    "ExecuteTime": {
     "end_time": "2025-03-01T16:29:25.399733Z",
     "start_time": "2025-03-01T16:29:14.198475Z"
    }
   },
   "cell_type": "code",
   "source": [
    "# 🔹 Example Usage\n",
    "example_input = \"Is it normal to feel anxious even when nothing is wrong?\"\n",
    "print(\"🔹 AI Response:\", ensemble_generate(example_input))\n"
   ],
   "id": "9fa70b1e7b2229e8",
   "outputs": [
    {
     "name": "stdout",
     "output_type": "stream",
     "text": [
      "🔹 AI Response: yes, it is normal to feel anxious even when nothing is wrong. i'm not sure whether or not there is anything wrong with your anxiety. you may want to know more about yourself and the reasons for this anxiety.\n"
     ]
    }
   ],
   "execution_count": 85
  },
  {
   "metadata": {
    "ExecuteTime": {
     "end_time": "2025-03-01T16:29:38.060240Z",
     "start_time": "2025-03-01T16:29:25.401742Z"
    }
   },
   "cell_type": "code",
   "source": [
    "# 🔹 Example Usage\n",
    "example_input = \"How can I relax my mind before sleeping?\"\n",
    "print(\"🔹 AI Response:\", ensemble_generate(example_input))\n"
   ],
   "id": "ec8e286d972e4bb0",
   "outputs": [
    {
     "name": "stdout",
     "output_type": "stream",
     "text": [
      "🔹 AI Response: the first step is to relax your mind before sleeping. it's important to have a clearer understanding of what you are feeling and how you feel about yourself. there are many ways to relax your mind before sleeping. this can be a great way to relax your mind before sleeping.\n"
     ]
    }
   ],
   "execution_count": 86
  },
  {
   "metadata": {
    "ExecuteTime": {
     "end_time": "2025-03-01T16:29:47.840322Z",
     "start_time": "2025-03-01T16:29:38.061611Z"
    }
   },
   "cell_type": "code",
   "source": [
    "# 🔹 Example Usage\n",
    "example_input = \"What are some mindfulness techniques for anxiety relief?\"\n",
    "print(\"🔹 AI Response:\", ensemble_generate(example_input))\n"
   ],
   "id": "a5c01787f87dac47",
   "outputs": [
    {
     "name": "stdout",
     "output_type": "stream",
     "text": [
      "🔹 AI Response: mindfulness techniques for anxiety relief are some of the best ways to reduce anxiety. i'm not sure what is going on in your life, but i don't know how to deal with it. meditation can help you cope with anxiety and improve your mood.\n"
     ]
    }
   ],
   "execution_count": 87
  },
  {
   "metadata": {
    "ExecuteTime": {
     "end_time": "2025-03-01T16:26:53.827685Z",
     "start_time": "2025-03-01T16:26:53.823337Z"
    }
   },
   "cell_type": "code",
   "source": "",
   "id": "1094cc2a6a66e80c",
   "outputs": [],
   "execution_count": 78
  },
  {
   "metadata": {},
   "cell_type": "code",
   "outputs": [],
   "execution_count": null,
   "source": "",
   "id": "b7bf05a1782b6a0b"
  }
 ],
 "metadata": {
  "kernelspec": {
   "display_name": "Python 3",
   "language": "python",
   "name": "python3"
  },
  "language_info": {
   "codemirror_mode": {
    "name": "ipython",
    "version": 2
   },
   "file_extension": ".py",
   "mimetype": "text/x-python",
   "name": "python",
   "nbconvert_exporter": "python",
   "pygments_lexer": "ipython2",
   "version": "2.7.6"
  }
 },
 "nbformat": 4,
 "nbformat_minor": 5
}
